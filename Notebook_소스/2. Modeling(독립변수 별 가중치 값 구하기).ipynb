{
 "cells": [
  {
   "cell_type": "markdown",
   "id": "printable-juice",
   "metadata": {},
   "source": [
    "# 1. 필요 csv 불러오기\n",
    "\"금호동_최종_데이터.csv\" 데이터 불러오기"
   ]
  },
  {
   "cell_type": "code",
   "execution_count": 1,
   "id": "angry-delay",
   "metadata": {
    "collapsed": true
   },
   "outputs": [
    {
     "data": {
      "text/html": [
       "<div>\n",
       "<style scoped>\n",
       "    .dataframe tbody tr th:only-of-type {\n",
       "        vertical-align: middle;\n",
       "    }\n",
       "\n",
       "    .dataframe tbody tr th {\n",
       "        vertical-align: top;\n",
       "    }\n",
       "\n",
       "    .dataframe thead th {\n",
       "        text-align: right;\n",
       "    }\n",
       "</style>\n",
       "<table border=\"1\" class=\"dataframe\">\n",
       "  <thead>\n",
       "    <tr style=\"text-align: right;\">\n",
       "      <th></th>\n",
       "      <th>gid</th>\n",
       "      <th>상권개수</th>\n",
       "      <th>인구정보</th>\n",
       "      <th>연면적</th>\n",
       "      <th>Busdistance</th>\n",
       "      <th>HubDist</th>\n",
       "      <th>trash</th>\n",
       "      <th>geometry</th>\n",
       "    </tr>\n",
       "  </thead>\n",
       "  <tbody>\n",
       "    <tr>\n",
       "      <th>0</th>\n",
       "      <td>라라212603</td>\n",
       "      <td>0</td>\n",
       "      <td>154.0</td>\n",
       "      <td>1083.21</td>\n",
       "      <td>144.183573</td>\n",
       "      <td>13.308311</td>\n",
       "      <td>12900.0</td>\n",
       "      <td>MULTIPOLYGON (((127.732147404193 34.9373046468...</td>\n",
       "    </tr>\n",
       "    <tr>\n",
       "      <th>1</th>\n",
       "      <td>라라199601</td>\n",
       "      <td>0</td>\n",
       "      <td>138.0</td>\n",
       "      <td>2261.98</td>\n",
       "      <td>61.306397</td>\n",
       "      <td>30.667224</td>\n",
       "      <td>0.0</td>\n",
       "      <td>MULTIPOLYGON (((127.7179072746085 34.935527519...</td>\n",
       "    </tr>\n",
       "    <tr>\n",
       "      <th>2</th>\n",
       "      <td>라라209607</td>\n",
       "      <td>0</td>\n",
       "      <td>77.0</td>\n",
       "      <td>1023.00</td>\n",
       "      <td>115.206453</td>\n",
       "      <td>36.987092</td>\n",
       "      <td>0.0</td>\n",
       "      <td>MULTIPOLYGON (((127.7288723433386 34.940917863...</td>\n",
       "    </tr>\n",
       "    <tr>\n",
       "      <th>3</th>\n",
       "      <td>라라207605</td>\n",
       "      <td>0</td>\n",
       "      <td>9.0</td>\n",
       "      <td>676.50</td>\n",
       "      <td>163.932305</td>\n",
       "      <td>9.244004</td>\n",
       "      <td>4000.0</td>\n",
       "      <td>MULTIPOLYGON (((127.7266772301307 34.939118477...</td>\n",
       "    </tr>\n",
       "    <tr>\n",
       "      <th>4</th>\n",
       "      <td>라라201601</td>\n",
       "      <td>0</td>\n",
       "      <td>132.0</td>\n",
       "      <td>2135.38</td>\n",
       "      <td>215.299204</td>\n",
       "      <td>17.696178</td>\n",
       "      <td>0.0</td>\n",
       "      <td>MULTIPOLYGON (((127.7200972832025 34.935523571...</td>\n",
       "    </tr>\n",
       "    <tr>\n",
       "      <th>...</th>\n",
       "      <td>...</td>\n",
       "      <td>...</td>\n",
       "      <td>...</td>\n",
       "      <td>...</td>\n",
       "      <td>...</td>\n",
       "      <td>...</td>\n",
       "      <td>...</td>\n",
       "      <td>...</td>\n",
       "    </tr>\n",
       "    <tr>\n",
       "      <th>2282</th>\n",
       "      <td>라라237581</td>\n",
       "      <td>0</td>\n",
       "      <td>0.0</td>\n",
       "      <td>0.00</td>\n",
       "      <td>2019.788254</td>\n",
       "      <td>404.705986</td>\n",
       "      <td>0.0</td>\n",
       "      <td>MULTIPOLYGON (((127.7594605813311 34.917410847...</td>\n",
       "    </tr>\n",
       "    <tr>\n",
       "      <th>2283</th>\n",
       "      <td>라라223572</td>\n",
       "      <td>0</td>\n",
       "      <td>0.0</td>\n",
       "      <td>0.00</td>\n",
       "      <td>2451.218420</td>\n",
       "      <td>217.809801</td>\n",
       "      <td>0.0</td>\n",
       "      <td>MULTIPOLYGON (((127.7441098973286 34.909326865...</td>\n",
       "    </tr>\n",
       "    <tr>\n",
       "      <th>2284</th>\n",
       "      <td>라라190581</td>\n",
       "      <td>0</td>\n",
       "      <td>0.0</td>\n",
       "      <td>0.00</td>\n",
       "      <td>1789.629515</td>\n",
       "      <td>116.939443</td>\n",
       "      <td>0.0</td>\n",
       "      <td>MULTIPOLYGON (((127.7080067112277 34.917509812...</td>\n",
       "    </tr>\n",
       "    <tr>\n",
       "      <th>2285</th>\n",
       "      <td>라라248553</td>\n",
       "      <td>0</td>\n",
       "      <td>0.0</td>\n",
       "      <td>0.00</td>\n",
       "      <td>4788.218514</td>\n",
       "      <td>214.805182</td>\n",
       "      <td>0.0</td>\n",
       "      <td>MULTIPOLYGON (((127.7714198466552 34.892135590...</td>\n",
       "    </tr>\n",
       "    <tr>\n",
       "      <th>2286</th>\n",
       "      <td>라라243554</td>\n",
       "      <td>0</td>\n",
       "      <td>0.0</td>\n",
       "      <td>0.00</td>\n",
       "      <td>4655.003596</td>\n",
       "      <td>248.116508</td>\n",
       "      <td>0.0</td>\n",
       "      <td>MULTIPOLYGON (((127.7659506311317 34.893049435...</td>\n",
       "    </tr>\n",
       "  </tbody>\n",
       "</table>\n",
       "<p>2287 rows × 8 columns</p>\n",
       "</div>"
      ],
      "text/plain": [
       "           gid  상권개수   인구정보      연면적  Busdistance     HubDist    trash  \\\n",
       "0     라라212603     0  154.0  1083.21   144.183573   13.308311  12900.0   \n",
       "1     라라199601     0  138.0  2261.98    61.306397   30.667224      0.0   \n",
       "2     라라209607     0   77.0  1023.00   115.206453   36.987092      0.0   \n",
       "3     라라207605     0    9.0   676.50   163.932305    9.244004   4000.0   \n",
       "4     라라201601     0  132.0  2135.38   215.299204   17.696178      0.0   \n",
       "...        ...   ...    ...      ...          ...         ...      ...   \n",
       "2282  라라237581     0    0.0     0.00  2019.788254  404.705986      0.0   \n",
       "2283  라라223572     0    0.0     0.00  2451.218420  217.809801      0.0   \n",
       "2284  라라190581     0    0.0     0.00  1789.629515  116.939443      0.0   \n",
       "2285  라라248553     0    0.0     0.00  4788.218514  214.805182      0.0   \n",
       "2286  라라243554     0    0.0     0.00  4655.003596  248.116508      0.0   \n",
       "\n",
       "                                               geometry  \n",
       "0     MULTIPOLYGON (((127.732147404193 34.9373046468...  \n",
       "1     MULTIPOLYGON (((127.7179072746085 34.935527519...  \n",
       "2     MULTIPOLYGON (((127.7288723433386 34.940917863...  \n",
       "3     MULTIPOLYGON (((127.7266772301307 34.939118477...  \n",
       "4     MULTIPOLYGON (((127.7200972832025 34.935523571...  \n",
       "...                                                 ...  \n",
       "2282  MULTIPOLYGON (((127.7594605813311 34.917410847...  \n",
       "2283  MULTIPOLYGON (((127.7441098973286 34.909326865...  \n",
       "2284  MULTIPOLYGON (((127.7080067112277 34.917509812...  \n",
       "2285  MULTIPOLYGON (((127.7714198466552 34.892135590...  \n",
       "2286  MULTIPOLYGON (((127.7659506311317 34.893049435...  \n",
       "\n",
       "[2287 rows x 8 columns]"
      ]
     },
     "execution_count": 1,
     "metadata": {},
     "output_type": "execute_result"
    }
   ],
   "source": [
    "import pandas as pd\n",
    "df = pd.read_csv('금호동_최종_데이터.csv',index_col=0)\n",
    "df"
   ]
  },
  {
   "cell_type": "markdown",
   "id": "secret-terror",
   "metadata": {},
   "source": [
    "# 2. 모델링 전 상권개수, 인구정보, 연면적, trash 변수 값이 모두 0인 값인 raw 삭제"
   ]
  },
  {
   "cell_type": "code",
   "execution_count": 2,
   "id": "composed-canada",
   "metadata": {},
   "outputs": [
    {
     "data": {
      "text/plain": [
       "Int64Index([  94,   95,   96,   97,   98,   99,  100,  101,  102,  103,\n",
       "            ...\n",
       "            2277, 2278, 2279, 2280, 2281, 2282, 2283, 2284, 2285, 2286],\n",
       "           dtype='int64', length=2123)"
      ]
     },
     "execution_count": 2,
     "metadata": {},
     "output_type": "execute_result"
    }
   ],
   "source": [
    "a = df[(df['상권개수']==0) & (df['인구정보']==0) & (df['연면적']==0) & (df['trash']==0)]\n",
    "idx = a.index\n",
    "idx"
   ]
  },
  {
   "cell_type": "code",
   "execution_count": 3,
   "id": "bottom-transition",
   "metadata": {},
   "outputs": [],
   "source": [
    "df=df.drop(idx).reset_index(drop=True)"
   ]
  },
  {
   "cell_type": "code",
   "execution_count": 4,
   "id": "hairy-difference",
   "metadata": {},
   "outputs": [
    {
     "data": {
      "text/plain": [
       "(164, 8)"
      ]
     },
     "execution_count": 4,
     "metadata": {},
     "output_type": "execute_result"
    }
   ],
   "source": [
    "df.shape"
   ]
  },
  {
   "cell_type": "code",
   "execution_count": 5,
   "id": "uniform-funeral",
   "metadata": {
    "collapsed": true
   },
   "outputs": [
    {
     "data": {
      "text/html": [
       "<div>\n",
       "<style scoped>\n",
       "    .dataframe tbody tr th:only-of-type {\n",
       "        vertical-align: middle;\n",
       "    }\n",
       "\n",
       "    .dataframe tbody tr th {\n",
       "        vertical-align: top;\n",
       "    }\n",
       "\n",
       "    .dataframe thead th {\n",
       "        text-align: right;\n",
       "    }\n",
       "</style>\n",
       "<table border=\"1\" class=\"dataframe\">\n",
       "  <thead>\n",
       "    <tr style=\"text-align: right;\">\n",
       "      <th></th>\n",
       "      <th>gid</th>\n",
       "      <th>상권개수</th>\n",
       "      <th>인구정보</th>\n",
       "      <th>연면적</th>\n",
       "      <th>Busdistance</th>\n",
       "      <th>HubDist</th>\n",
       "      <th>trash</th>\n",
       "      <th>geometry</th>\n",
       "    </tr>\n",
       "  </thead>\n",
       "  <tbody>\n",
       "    <tr>\n",
       "      <th>0</th>\n",
       "      <td>라라212603</td>\n",
       "      <td>0</td>\n",
       "      <td>154.0</td>\n",
       "      <td>1083.21</td>\n",
       "      <td>144.183573</td>\n",
       "      <td>13.308311</td>\n",
       "      <td>12900.0</td>\n",
       "      <td>MULTIPOLYGON (((127.732147404193 34.9373046468...</td>\n",
       "    </tr>\n",
       "    <tr>\n",
       "      <th>1</th>\n",
       "      <td>라라199601</td>\n",
       "      <td>0</td>\n",
       "      <td>138.0</td>\n",
       "      <td>2261.98</td>\n",
       "      <td>61.306397</td>\n",
       "      <td>30.667224</td>\n",
       "      <td>0.0</td>\n",
       "      <td>MULTIPOLYGON (((127.7179072746085 34.935527519...</td>\n",
       "    </tr>\n",
       "    <tr>\n",
       "      <th>2</th>\n",
       "      <td>라라209607</td>\n",
       "      <td>0</td>\n",
       "      <td>77.0</td>\n",
       "      <td>1023.00</td>\n",
       "      <td>115.206453</td>\n",
       "      <td>36.987092</td>\n",
       "      <td>0.0</td>\n",
       "      <td>MULTIPOLYGON (((127.7288723433386 34.940917863...</td>\n",
       "    </tr>\n",
       "    <tr>\n",
       "      <th>3</th>\n",
       "      <td>라라207605</td>\n",
       "      <td>0</td>\n",
       "      <td>9.0</td>\n",
       "      <td>676.50</td>\n",
       "      <td>163.932305</td>\n",
       "      <td>9.244004</td>\n",
       "      <td>4000.0</td>\n",
       "      <td>MULTIPOLYGON (((127.7266772301307 34.939118477...</td>\n",
       "    </tr>\n",
       "    <tr>\n",
       "      <th>4</th>\n",
       "      <td>라라201601</td>\n",
       "      <td>0</td>\n",
       "      <td>132.0</td>\n",
       "      <td>2135.38</td>\n",
       "      <td>215.299204</td>\n",
       "      <td>17.696178</td>\n",
       "      <td>0.0</td>\n",
       "      <td>MULTIPOLYGON (((127.7200972832025 34.935523571...</td>\n",
       "    </tr>\n",
       "    <tr>\n",
       "      <th>...</th>\n",
       "      <td>...</td>\n",
       "      <td>...</td>\n",
       "      <td>...</td>\n",
       "      <td>...</td>\n",
       "      <td>...</td>\n",
       "      <td>...</td>\n",
       "      <td>...</td>\n",
       "      <td>...</td>\n",
       "    </tr>\n",
       "    <tr>\n",
       "      <th>159</th>\n",
       "      <td>라라240554</td>\n",
       "      <td>0</td>\n",
       "      <td>0.0</td>\n",
       "      <td>192.88</td>\n",
       "      <td>4593.398993</td>\n",
       "      <td>24.072767</td>\n",
       "      <td>0.0</td>\n",
       "      <td>MULTIPOLYGON (((127.7626673207969 34.893056574...</td>\n",
       "    </tr>\n",
       "    <tr>\n",
       "      <th>160</th>\n",
       "      <td>라라207604</td>\n",
       "      <td>0</td>\n",
       "      <td>0.0</td>\n",
       "      <td>194.40</td>\n",
       "      <td>129.361336</td>\n",
       "      <td>49.408544</td>\n",
       "      <td>0.0</td>\n",
       "      <td>MULTIPOLYGON (((127.7266747490325 34.938216731...</td>\n",
       "    </tr>\n",
       "    <tr>\n",
       "      <th>161</th>\n",
       "      <td>라라197603</td>\n",
       "      <td>2</td>\n",
       "      <td>0.0</td>\n",
       "      <td>201.22</td>\n",
       "      <td>315.437198</td>\n",
       "      <td>35.252876</td>\n",
       "      <td>0.0</td>\n",
       "      <td>MULTIPOLYGON (((127.7157219875493 34.937334922...</td>\n",
       "    </tr>\n",
       "    <tr>\n",
       "      <th>162</th>\n",
       "      <td>라라212599</td>\n",
       "      <td>10</td>\n",
       "      <td>0.0</td>\n",
       "      <td>1732.48</td>\n",
       "      <td>268.246452</td>\n",
       "      <td>27.638026</td>\n",
       "      <td>0.0</td>\n",
       "      <td>MULTIPOLYGON (((127.7321372416677 34.933697661...</td>\n",
       "    </tr>\n",
       "    <tr>\n",
       "      <th>163</th>\n",
       "      <td>라라242578</td>\n",
       "      <td>0</td>\n",
       "      <td>0.0</td>\n",
       "      <td>374.40</td>\n",
       "      <td>2248.465194</td>\n",
       "      <td>44.407827</td>\n",
       "      <td>0.0</td>\n",
       "      <td>MULTIPOLYGON (((127.7649256897607 34.914693796...</td>\n",
       "    </tr>\n",
       "  </tbody>\n",
       "</table>\n",
       "<p>164 rows × 8 columns</p>\n",
       "</div>"
      ],
      "text/plain": [
       "          gid  상권개수   인구정보      연면적  Busdistance    HubDist    trash  \\\n",
       "0    라라212603     0  154.0  1083.21   144.183573  13.308311  12900.0   \n",
       "1    라라199601     0  138.0  2261.98    61.306397  30.667224      0.0   \n",
       "2    라라209607     0   77.0  1023.00   115.206453  36.987092      0.0   \n",
       "3    라라207605     0    9.0   676.50   163.932305   9.244004   4000.0   \n",
       "4    라라201601     0  132.0  2135.38   215.299204  17.696178      0.0   \n",
       "..        ...   ...    ...      ...          ...        ...      ...   \n",
       "159  라라240554     0    0.0   192.88  4593.398993  24.072767      0.0   \n",
       "160  라라207604     0    0.0   194.40   129.361336  49.408544      0.0   \n",
       "161  라라197603     2    0.0   201.22   315.437198  35.252876      0.0   \n",
       "162  라라212599    10    0.0  1732.48   268.246452  27.638026      0.0   \n",
       "163  라라242578     0    0.0   374.40  2248.465194  44.407827      0.0   \n",
       "\n",
       "                                              geometry  \n",
       "0    MULTIPOLYGON (((127.732147404193 34.9373046468...  \n",
       "1    MULTIPOLYGON (((127.7179072746085 34.935527519...  \n",
       "2    MULTIPOLYGON (((127.7288723433386 34.940917863...  \n",
       "3    MULTIPOLYGON (((127.7266772301307 34.939118477...  \n",
       "4    MULTIPOLYGON (((127.7200972832025 34.935523571...  \n",
       "..                                                 ...  \n",
       "159  MULTIPOLYGON (((127.7626673207969 34.893056574...  \n",
       "160  MULTIPOLYGON (((127.7266747490325 34.938216731...  \n",
       "161  MULTIPOLYGON (((127.7157219875493 34.937334922...  \n",
       "162  MULTIPOLYGON (((127.7321372416677 34.933697661...  \n",
       "163  MULTIPOLYGON (((127.7649256897607 34.914693796...  \n",
       "\n",
       "[164 rows x 8 columns]"
      ]
     },
     "execution_count": 5,
     "metadata": {},
     "output_type": "execute_result"
    }
   ],
   "source": [
    "df"
   ]
  },
  {
   "cell_type": "markdown",
   "id": "oriented-schema",
   "metadata": {},
   "source": [
    "# 3. 모델링"
   ]
  },
  {
   "cell_type": "markdown",
   "id": "asian-contribution",
   "metadata": {},
   "source": [
    "## 3-1. 데이터 정규화\n",
    "- MinMaxScaler"
   ]
  },
  {
   "cell_type": "code",
   "execution_count": 6,
   "id": "pleasant-identity",
   "metadata": {},
   "outputs": [
    {
     "name": "stdout",
     "output_type": "stream",
     "text": [
      "(114, 5) (50, 5)\n"
     ]
    }
   ],
   "source": [
    "# train_test_split\n",
    "from sklearn.model_selection import train_test_split\n",
    "X_train, X_test, y_train,y_test = train_test_split(df.iloc[:,1:6], df.iloc[:,6], random_state=1234, test_size= 0.3)\n",
    "print(X_train.shape,X_test.shape)"
   ]
  },
  {
   "cell_type": "code",
   "execution_count": 7,
   "id": "musical-commission",
   "metadata": {},
   "outputs": [],
   "source": [
    "from sklearn.preprocessing import MinMaxScaler\n",
    "minmaxScaler = MinMaxScaler()\n",
    "minmaxScaler.fit(X_train)\n",
    "\n",
    "X_train_scaled = minmaxScaler.transform(X_train)\n",
    "X_test_scaled = minmaxScaler.transform(X_test)"
   ]
  },
  {
   "cell_type": "markdown",
   "id": "engaging-craft",
   "metadata": {},
   "source": [
    "## 3-2. 데이터 모델링"
   ]
  },
  {
   "cell_type": "code",
   "execution_count": 12,
   "id": "increased-meditation",
   "metadata": {},
   "outputs": [],
   "source": [
    "from sklearn.svm import LinearSVR\n",
    "linear_svr = LinearSVR(random_state=1234).fit(X_train_scaled,y_train)"
   ]
  },
  {
   "cell_type": "code",
   "execution_count": 13,
   "id": "referenced-manner",
   "metadata": {},
   "outputs": [
    {
     "data": {
      "text/plain": [
       "array([-0.320905  ,  2.36554888,  0.04822848,  0.09531933, -0.62530756])"
      ]
     },
     "execution_count": 13,
     "metadata": {},
     "output_type": "execute_result"
    }
   ],
   "source": [
    "linear_svr.coef_"
   ]
  },
  {
   "cell_type": "code",
   "execution_count": 14,
   "id": "organized-balloon",
   "metadata": {},
   "outputs": [
    {
     "data": {
      "text/plain": [
       "array([-0.59462187])"
      ]
     },
     "execution_count": 14,
     "metadata": {},
     "output_type": "execute_result"
    }
   ],
   "source": [
    "linear_svr.intercept_"
   ]
  },
  {
   "cell_type": "markdown",
   "id": "horizontal-difficulty",
   "metadata": {},
   "source": [
    "# 4. 최종 결과\n",
    "\n",
    "변수별 가중치 값 최종\n",
    "\n",
    "  상권개수\t     인구정보\t  연면적\t    Busdistance\t HubDist\t\n",
    "  \n",
    ": [-0.320905  ,  2.36554888,  0.04822848,  0.09531933, -0.62530756]\n",
    "\n",
    "y 절편 : [-0.59462187]"
   ]
  }
 ],
 "metadata": {
  "kernelspec": {
   "display_name": "Python 3",
   "language": "python",
   "name": "python3"
  },
  "language_info": {
   "codemirror_mode": {
    "name": "ipython",
    "version": 3
   },
   "file_extension": ".py",
   "mimetype": "text/x-python",
   "name": "python",
   "nbconvert_exporter": "python",
   "pygments_lexer": "ipython3",
   "version": "3.6.9"
  }
 },
 "nbformat": 4,
 "nbformat_minor": 5
}
